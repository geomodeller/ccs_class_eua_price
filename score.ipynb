{
 "cells": [
  {
   "cell_type": "code",
   "execution_count": null,
   "metadata": {},
   "outputs": [],
   "source": [
    "import matplotlib.pyplot as plt\n",
    "import numpy as np\n",
    "import time"
   ]
  },
  {
   "cell_type": "code",
   "execution_count": null,
   "metadata": {},
   "outputs": [],
   "source": [
    "last_week_avg = np.array([66.230, 67.130, 65.330, 64.430, 63.740, 63.740, 63.740]).mean()\n",
    "print(f'last week average eua price is {last_week_avg:.3f} euro')"
   ]
  },
  {
   "cell_type": "code",
   "execution_count": null,
   "metadata": {},
   "outputs": [],
   "source": [
    "final_submission = {'team A':66.67,\n",
    "                    'team B':64.78,\n",
    "                    'team C':64.17,\n",
    "                    'team D':0}"
   ]
  },
  {
   "cell_type": "code",
   "execution_count": null,
   "metadata": {},
   "outputs": [],
   "source": [
    "rank = sorted(final_submission.items(), key = lambda x: abs(x[1]-last_week_avg))\n",
    "for i, [team, price] in enumerate(rank):\n",
    "    print(f'{i+1} 등 팀은:')\n",
    "    time.sleep(3)\n",
    "    print(f'축하합니다! {team}, 정답과 오차는 {price-last_week_avg:.2f}')\n",
    "    print()\n",
    "    time.sleep(3)"
   ]
  },
  {
   "cell_type": "code",
   "execution_count": null,
   "metadata": {},
   "outputs": [],
   "source": [
    "plt.bar(x = final_submission.keys(), \n",
    "        height=final_submission.values(),\n",
    "        label = 'submitted price')\n",
    "plt.ylabel('EUA price')\n",
    "plt.minorticks_on()\n",
    "plt.grid(which='major')\n",
    "plt.grid(which='minor', linestyle=':', linewidth=0.5)\n",
    "plt.ylim(40,80)\n",
    "plt.axhline(last_week_avg, color = 'red', label ='ground truth')\n",
    "plt.legend()"
   ]
  }
 ],
 "metadata": {
  "kernelspec": {
   "display_name": "Python 3",
   "language": "python",
   "name": "python3"
  },
  "language_info": {
   "codemirror_mode": {
    "name": "ipython",
    "version": 3
   },
   "file_extension": ".py",
   "mimetype": "text/x-python",
   "name": "python",
   "nbconvert_exporter": "python",
   "pygments_lexer": "ipython3",
   "version": "3.11.2"
  }
 },
 "nbformat": 4,
 "nbformat_minor": 2
}
